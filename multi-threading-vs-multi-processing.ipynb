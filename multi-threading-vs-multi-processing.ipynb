{
 "cells": [
  {
   "cell_type": "code",
   "execution_count": 1,
   "metadata": {},
   "outputs": [
    {
     "name": "stdout",
     "output_type": "stream",
     "text": [
      "3.6.5 |Anaconda, Inc.| (default, Apr 29 2018, 16:14:56) \n",
      "[GCC 7.2.0]\n"
     ]
    }
   ],
   "source": [
    "import sys\n",
    "print(sys.version)"
   ]
  },
  {
   "cell_type": "markdown",
   "metadata": {},
   "source": [
    "## multi threading vs multi processing"
   ]
  },
  {
   "cell_type": "code",
   "execution_count": 2,
   "metadata": {},
   "outputs": [
    {
     "name": "stdout",
     "output_type": "stream",
     "text": [
      ">>> multi_threading_io, total 100 requests\n",
      "....................................................................................................\n",
      "1 threading, execute time = 2.94621 s\n",
      "....................................................................................................\n",
      "2 threading, execute time = 1.44883 s\n",
      "....................................................................................................\n",
      "5 threading, execute time = 0.51558 s\n",
      "\n",
      ">>> multi_processing_io, total 100 requests\n",
      "....................................................................................................\n",
      "1 processing, execute time = 3.21419 s\n",
      "....................................................................................................\n",
      "2 processing, execute time = 1.52511 s\n",
      "....................................................................................................\n",
      "5 processing, execute time = 0.65503 s\n",
      "\n",
      ">>> multi_threading_cpu, total 10 tasks\n",
      "..........\n",
      "1 threading, execute time = 13.14945 s\n",
      "..........\n",
      "2 threading, execute time = 13.49126 s\n",
      "..........\n",
      "5 threading, execute time = 13.46603 s\n",
      "\n",
      ">>> multi_processing_cpu, total 10 tasks\n",
      "..........\n",
      "1 processing, execute time = 13.12836 s\n",
      "..........\n",
      "2 processing, execute time = 8.02868 s\n",
      "..........\n",
      "5 processing, execute time = 2.91923 s\n"
     ]
    }
   ],
   "source": [
    "from threading_vs_processing import *\n",
    "\n",
    "print('>>> multi_threading_io, total {} requests'.format(REQUEST_CNT))\n",
    "multi_threading_io(1)\n",
    "multi_threading_io(2)\n",
    "multi_threading_io(5)\n",
    "\n",
    "print('\\n>>> multi_processing_io, total {} requests'.format(REQUEST_CNT))\n",
    "multi_processing_io(1)\n",
    "multi_processing_io(2)\n",
    "multi_processing_io(5)\n",
    "\n",
    "print('\\n>>> multi_threading_cpu, total {} tasks'.format(PRIME_CNT))\n",
    "multi_threading_cpu(1)\n",
    "multi_threading_cpu(2)\n",
    "multi_threading_cpu(5)\n",
    "\n",
    "print('\\n>>> multi_processing_cpu, total {} tasks'.format(PRIME_CNT))\n",
    "multi_processing_cpu(1)\n",
    "multi_processing_cpu(2)\n",
    "multi_processing_cpu(5)"
   ]
  }
 ],
 "metadata": {
  "kernelspec": {
   "display_name": "Python 3",
   "language": "python",
   "name": "python3"
  },
  "language_info": {
   "codemirror_mode": {
    "name": "ipython",
    "version": 3
   },
   "file_extension": ".py",
   "mimetype": "text/x-python",
   "name": "python",
   "nbconvert_exporter": "python",
   "pygments_lexer": "ipython3",
   "version": "3.6.5"
  }
 },
 "nbformat": 4,
 "nbformat_minor": 2
}
